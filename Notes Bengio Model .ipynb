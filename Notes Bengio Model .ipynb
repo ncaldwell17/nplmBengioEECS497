{
 "cells": [
  {
   "cell_type": "markdown",
   "metadata": {},
   "source": [
    "## Notes\n",
    "\n",
    "In this notebook, I'm going to plan out a TensorFlow implementation of Bengio et.all's A Neural Probabilistic Model. The original relied on a series of parallelization hacks to get the training done,  so hopefully this should go a lot faster and simpler. "
   ]
  },
  {
   "cell_type": "code",
   "execution_count": 11,
   "metadata": {},
   "outputs": [
    {
     "name": "stdout",
     "output_type": "stream",
     "text": [
      "1.13.1\n"
     ]
    }
   ],
   "source": [
    "import tensorflow as tf\n",
    "from tensorflow import keras\n",
    "import numpy as np \n",
    "\n",
    "print(tf.__version__)"
   ]
  },
  {
   "cell_type": "markdown",
   "metadata": {},
   "source": [
    "# The Model\n",
    "\n",
    "## Task One - Creating Word Feature Vectors\n",
    "In this section, I need to be able to create a trainable |V| x d matrix where V is the size of my vocabulary and d is the dimensionality I want the word feature vectors to be. This is fairly simple in TensorFlow. \n",
    "\n",
    "### Integerizing the Text Corpus With a Vocabulary\n",
    "This is necessary so that each would is represented as an integer. To do this, I'm using TensorFlow's [repo](#) on word2vec and LiamGe's [DataLoader](https://github.com/liamge/NeuralLM/blob/master/utils.py) as inspirations to handle train/test/validation data and write/make batches. "
   ]
  },
  {
   "cell_type": "markdown",
   "metadata": {},
   "source": [
    "### Building the Graph\n",
    "Here, I'm using TensorFlow's [tutorial](https://www.tensorflow.org/tutorials/representation/word2vec) on word2vec representations to understand what's going on. For my first step, I'm defining my embedding matrix. This is just a big random matrix to start out. I'll also initialize the values to be uniform in the unit cube. "
   ]
  },
  {
   "cell_type": "code",
   "execution_count": null,
   "metadata": {},
   "outputs": [],
   "source": [
    "# variables\n",
    "vocabulary_size = \n",
    "batch_size = \n",
    "num_steps = \n",
    "embedding_size = "
   ]
  },
  {
   "cell_type": "code",
   "execution_count": null,
   "metadata": {},
   "outputs": [],
   "source": [
    "def preprocessing():\n",
    "    filename = # path to corpus\n",
    "    batch_size = "
   ]
  },
  {
   "cell_type": "code",
   "execution_count": null,
   "metadata": {},
   "outputs": [],
   "source": [
    "def build_placeholders():\n",
    "    train_input = tf.placeholder(tf.int32, shape=[batch_size, num_steps])"
   ]
  },
  {
   "cell_type": "code",
   "execution_count": 10,
   "metadata": {},
   "outputs": [
    {
     "ename": "NameError",
     "evalue": "name 'vocabulary_size' is not defined",
     "output_type": "error",
     "traceback": [
      "\u001b[0;31m---------------------------------------------------------------------------\u001b[0m",
      "\u001b[0;31mNameError\u001b[0m                                 Traceback (most recent call last)",
      "\u001b[0;32m<ipython-input-10-a0dafbad50af>\u001b[0m in \u001b[0;36m<module>\u001b[0;34m\u001b[0m\n\u001b[0;32m----> 1\u001b[0;31m embeddings = tf.Variable(tf.random_uniform([len(vocabulary_size), embedding_size], \n\u001b[0m\u001b[1;32m      2\u001b[0m                                            \u001b[0;34m-\u001b[0m\u001b[0;36m1.0\u001b[0m\u001b[0;34m,\u001b[0m \u001b[0;31m# initializing with a sample from the random uniform distribution\u001b[0m\u001b[0;34m\u001b[0m\u001b[0;34m\u001b[0m\u001b[0m\n\u001b[1;32m      3\u001b[0m                                            1.0))   #    between -1.0 and 1.0. \n",
      "\u001b[0;31mNameError\u001b[0m: name 'vocabulary_size' is not defined"
     ]
    }
   ],
   "source": [
    "def build_embeddings():\n",
    "    embedding_matrix = tf.Variable(tf.constant(0.0,\n",
    "                                              shape=[vocabulary_size, embedding_size]),\n",
    "                                  name='embedding_matrix')"
   ]
  },
  {
   "cell_type": "code",
   "execution_count": null,
   "metadata": {},
   "outputs": [],
   "source": [
    "def build_loss():"
   ]
  },
  {
   "cell_type": "code",
   "execution_count": null,
   "metadata": {},
   "outputs": [],
   "source": [
    "def build_optimizer():"
   ]
  },
  {
   "cell_type": "code",
   "execution_count": null,
   "metadata": {},
   "outputs": [],
   "source": [
    "def build_summaries():"
   ]
  },
  {
   "cell_type": "code",
   "execution_count": null,
   "metadata": {},
   "outputs": [],
   "source": [
    "def build_graph(self):\n",
    "    self.build_placeholders()\n",
    "    self.build_embeddings()\n",
    "    self.build_loss()\n",
    "    self.build_optimizer()\n",
    "    # self.build_summaries()"
   ]
  },
  {
   "cell_type": "code",
   "execution_count": null,
   "metadata": {},
   "outputs": [],
   "source": [
    "if __name__ == \"__main__\":\n",
    "    "
   ]
  },
  {
   "cell_type": "markdown",
   "metadata": {},
   "source": [
    "The noise-contrastive estimation loss is defined in terms of a logistic regression model. For this, I need to define the weights and biases for each word in the vocabulary (also called the `output_weights` as opposed to the `input_embeddings`). "
   ]
  },
  {
   "cell_type": "code",
   "execution_count": 9,
   "metadata": {},
   "outputs": [
    {
     "ename": "NameError",
     "evalue": "name 'vocabulary_size' is not defined",
     "output_type": "error",
     "traceback": [
      "\u001b[0;31m---------------------------------------------------------------------------\u001b[0m",
      "\u001b[0;31mNameError\u001b[0m                                 Traceback (most recent call last)",
      "\u001b[0;32m<ipython-input-9-09484dc51d56>\u001b[0m in \u001b[0;36m<module>\u001b[0;34m\u001b[0m\n\u001b[1;32m      1\u001b[0m noise_contrastive_estimation_weights = tf.Variable(\n\u001b[0;32m----> 2\u001b[0;31m     tf.truncated_normal([vocabulary_size, embedding_size],\n\u001b[0m\u001b[1;32m      3\u001b[0m                         standard_deviation=1.0 / math.sqrt(embedding_size)))\n\u001b[1;32m      4\u001b[0m \u001b[0;34m\u001b[0m\u001b[0m\n\u001b[1;32m      5\u001b[0m \u001b[0mnoise_contrastive_estimation_biases\u001b[0m \u001b[0;34m=\u001b[0m \u001b[0mtf\u001b[0m\u001b[0;34m.\u001b[0m\u001b[0mVariable\u001b[0m\u001b[0;34m(\u001b[0m\u001b[0mtf\u001b[0m\u001b[0;34m.\u001b[0m\u001b[0mzeros\u001b[0m\u001b[0;34m(\u001b[0m\u001b[0;34m[\u001b[0m\u001b[0mvocabulary_size\u001b[0m\u001b[0;34m]\u001b[0m\u001b[0;34m)\u001b[0m\u001b[0;34m)\u001b[0m\u001b[0;34m\u001b[0m\u001b[0;34m\u001b[0m\u001b[0m\n",
      "\u001b[0;31mNameError\u001b[0m: name 'vocabulary_size' is not defined"
     ]
    }
   ],
   "source": [
    "noise_contrastive_estimation_weights = tf.Variable(\n",
    "    tf.truncated_normal([vocabulary_size, embedding_size],\n",
    "                        standard_deviation=1.0 / math.sqrt(embedding_size)))\n",
    "\n",
    "noise_contrastive_estimation_biases = tf.Variable(tf.zeros([vocabulary_size]))"
   ]
  },
  {
   "cell_type": "markdown",
   "metadata": {},
   "source": [
    "Now that my parameters are in place, I can define the skip-gram model graph. "
   ]
  }
 ],
 "metadata": {
  "kernelspec": {
   "display_name": "default",
   "language": "python",
   "name": "default"
  },
  "language_info": {
   "codemirror_mode": {
    "name": "ipython",
    "version": 3
   },
   "file_extension": ".py",
   "mimetype": "text/x-python",
   "name": "python",
   "nbconvert_exporter": "python",
   "pygments_lexer": "ipython3",
   "version": "3.6.8"
  }
 },
 "nbformat": 4,
 "nbformat_minor": 2
}
